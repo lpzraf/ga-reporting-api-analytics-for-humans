{
 "cells": [
  {
   "cell_type": "markdown",
   "metadata": {},
   "source": [
    "## Cool stuff from Analytics for Humans using the GA reporting API\n",
    "##### Article url --> https://medium.com/analytics-for-humans/submitting-your-first-google-analytics-reporting-api-request-cdda19969940"
   ]
  },
  {
   "cell_type": "code",
   "execution_count": 1,
   "metadata": {},
   "outputs": [],
   "source": [
    "#Packages needed for authentication\n",
    "import httplib2 as lib2 #Example of the \"as\" function\n",
    "import google.oauth2.credentials #Importing a sub-package\n",
    "from google_auth_httplib2 import AuthorizedHttp\n",
    "\n",
    "\n",
    "#Packages needed for connecting with Google API\n",
    "from googleapiclient.discovery import build as google_build #An example with all the statements together\n",
    "\n",
    "#Data processing packages\n",
    "import pandas\n",
    "import numpy\n",
    "import json\n",
    "from datetime import datetime, timedelta #importing multiple sub-packages from one package\n"
   ]
  },
  {
   "cell_type": "code",
   "execution_count": 2,
   "metadata": {},
   "outputs": [],
   "source": [
    "#We have this from previous sections\n",
    "access_token = \"\"\n",
    "refresh_token = \"\"\n",
    "client_id = \"\"\n",
    "client_secret = \"\"\n",
    "    \n",
    "\n",
    "#This is consistent for all Google services\n",
    "token_uri = 'https://accounts.google.com/o/oauth2/token'\n",
    "\n",
    "#We are essentially setting the expiry date to 1 day before today, which will make it always expire\n",
    "token_expiry = datetime.now() - timedelta(days = 1)\n",
    "\n",
    "#¯\\_(ツ)_/¯\n",
    "user_agent = 'my-user-agent/1.0'\n",
    "\n",
    "#The real code that initalized the client\n",
    "credentials = google.oauth2.credentials.Credentials(access_token,  \n",
    "                                                    refresh_token=refresh_token,\n",
    "                                                    token_uri='https://accounts.google.com/o/oauth2/token',\n",
    "                                                    client_id=client_id,\n",
    "                                                    client_secret=client_secret)\n",
    "\n",
    "#Authorize client\n",
    "authorized = AuthorizedHttp(credentials=credentials)"
   ]
  },
  {
   "cell_type": "code",
   "execution_count": 3,
   "metadata": {},
   "outputs": [],
   "source": [
    "#API Name and Verison, these don't change until \n",
    "#they release a new API version for us to play with. \n",
    "api_name = 'analyticsreporting'\n",
    "api_version = 'v4'\n",
    "\n",
    "#Let's build the client\n",
    "api_client = google_build(serviceName=api_name, version=api_version, http=authorized)"
   ]
  },
  {
   "cell_type": "code",
   "execution_count": 7,
   "metadata": {},
   "outputs": [
    {
     "name": "stdout",
     "output_type": "stream",
     "text": [
      "{'reports': [{'columnHeader': {'dimensions': ['ga:date'], 'metricHeader': {'metricHeaderEntries': [{'name': 'ga:sessions', 'type': 'INTEGER'}]}}, 'data': {'rows': [{'dimensions': ['20200211'], 'metrics': [{'values': ['214']}]}, {'dimensions': ['20200212'], 'metrics': [{'values': ['197']}]}, {'dimensions': ['20200213'], 'metrics': [{'values': ['398']}]}, {'dimensions': ['20200214'], 'metrics': [{'values': ['266']}]}, {'dimensions': ['20200215'], 'metrics': [{'values': ['275']}]}, {'dimensions': ['20200216'], 'metrics': [{'values': ['180']}]}, {'dimensions': ['20200217'], 'metrics': [{'values': ['185']}]}, {'dimensions': ['20200218'], 'metrics': [{'values': ['227']}]}, {'dimensions': ['20200219'], 'metrics': [{'values': ['205']}]}, {'dimensions': ['20200220'], 'metrics': [{'values': ['185']}]}, {'dimensions': ['20200221'], 'metrics': [{'values': ['151']}]}, {'dimensions': ['20200222'], 'metrics': [{'values': ['137']}]}, {'dimensions': ['20200223'], 'metrics': [{'values': ['172']}]}, {'dimensions': ['20200224'], 'metrics': [{'values': ['153']}]}, {'dimensions': ['20200225'], 'metrics': [{'values': ['179']}]}, {'dimensions': ['20200226'], 'metrics': [{'values': ['196']}]}, {'dimensions': ['20200227'], 'metrics': [{'values': ['143']}]}, {'dimensions': ['20200228'], 'metrics': [{'values': ['194']}]}, {'dimensions': ['20200229'], 'metrics': [{'values': ['156']}]}, {'dimensions': ['20200301'], 'metrics': [{'values': ['145']}]}, {'dimensions': ['20200302'], 'metrics': [{'values': ['136']}]}, {'dimensions': ['20200303'], 'metrics': [{'values': ['260']}]}, {'dimensions': ['20200304'], 'metrics': [{'values': ['319']}]}, {'dimensions': ['20200305'], 'metrics': [{'values': ['252']}]}, {'dimensions': ['20200306'], 'metrics': [{'values': ['260']}]}, {'dimensions': ['20200307'], 'metrics': [{'values': ['206']}]}, {'dimensions': ['20200308'], 'metrics': [{'values': ['173']}]}, {'dimensions': ['20200309'], 'metrics': [{'values': ['229']}]}, {'dimensions': ['20200310'], 'metrics': [{'values': ['221']}]}, {'dimensions': ['20200311'], 'metrics': [{'values': ['210']}]}, {'dimensions': ['20200312'], 'metrics': [{'values': ['133']}]}], 'totals': [{'values': ['6357']}], 'rowCount': 31, 'minimums': [{'values': ['133']}], 'maximums': [{'values': ['398']}]}}]}\n"
     ]
    }
   ],
   "source": [
    "sample_request = {\n",
    "      'viewId': '116673378',\n",
    "      'dateRanges': {\n",
    "          'startDate': datetime.strftime(datetime.now() - timedelta(days = 30),'%Y-%m-%d'),\n",
    "          'endDate': datetime.strftime(datetime.now(),'%Y-%m-%d')\n",
    "      },\n",
    "      'dimensions': [{'name': 'ga:date'}],\n",
    "      'metrics': [{'expression': 'ga:sessions'}]\n",
    "    }\n",
    "\n",
    "response = api_client.reports().batchGet(\n",
    "      body={\n",
    "        'reportRequests': sample_request\n",
    "      }).execute()\n",
    "print(response)"
   ]
  },
  {
   "cell_type": "code",
   "execution_count": 5,
   "metadata": {},
   "outputs": [],
   "source": [
    "#Parse the response of API\n",
    "def prase_response(report):\n",
    "\n",
    "    \"\"\"Parses and prints the Analytics Reporting API V4 response\"\"\"\n",
    "    #Initialize results, in list format because two dataframes might return\n",
    "    result_list = []\n",
    "\n",
    "    #Initialize empty data container for the two dateranges (if there are two that is)\n",
    "    data_csv = []\n",
    "    data_csv2 = []\n",
    "\n",
    "    #Initialize header rows\n",
    "    header_row = []\n",
    "\n",
    "    #Get column headers, metric headers, and dimension headers.\n",
    "    columnHeader = report.get('columnHeader', {})\n",
    "    metricHeaders = columnHeader.get('metricHeader', {}).get('metricHeaderEntries', [])\n",
    "    dimensionHeaders = columnHeader.get('dimensions', [])\n",
    "\n",
    "    #Combine all of those headers into the header_row, which is in a list format\n",
    "    for dheader in dimensionHeaders:\n",
    "        header_row.append(dheader)\n",
    "    for mheader in metricHeaders:\n",
    "        header_row.append(mheader['name'])\n",
    "\n",
    "    #Get data from each of the rows, and append them into a list\n",
    "    rows = report.get('data', {}).get('rows', [])\n",
    "    for row in rows:\n",
    "        row_temp = []\n",
    "        dimensions = row.get('dimensions', [])\n",
    "        metrics = row.get('metrics', [])\n",
    "        for d in dimensions:\n",
    "            row_temp.append(d)\n",
    "        for m in metrics[0]['values']:\n",
    "            row_temp.append(m)\n",
    "        data_csv.append(row_temp)\n",
    "\n",
    "        #In case of a second date range, do the same thing for the second request\n",
    "        if len(metrics) == 2:\n",
    "            row_temp2 = []\n",
    "            for d in dimensions:\n",
    "                row_temp2.append(d)\n",
    "            for m in metrics[1]['values']:\n",
    "                row_temp2.append(m)\n",
    "            data_csv2.append(row_temp2)\n",
    "\n",
    "    #Putting those list formats into pandas dataframe, and append them into the final result\n",
    "    result_df = pandas.DataFrame(data_csv, columns=header_row)\n",
    "    result_list.append(result_df)\n",
    "    if data_csv2 != []:\n",
    "        result_list.append(pandas.DataFrame(data_csv2, columns=header_row))\n",
    "\n",
    "    return result_list"
   ]
  },
  {
   "cell_type": "code",
   "execution_count": 8,
   "metadata": {
    "scrolled": true
   },
   "outputs": [
    {
     "name": "stdout",
     "output_type": "stream",
     "text": [
      "     ga:date ga:sessions\n",
      "0   20200211         214\n",
      "1   20200212         197\n",
      "2   20200213         398\n",
      "3   20200214         266\n",
      "4   20200215         275\n",
      "5   20200216         180\n",
      "6   20200217         185\n",
      "7   20200218         227\n",
      "8   20200219         205\n",
      "9   20200220         185\n",
      "10  20200221         151\n",
      "11  20200222         137\n",
      "12  20200223         172\n",
      "13  20200224         153\n",
      "14  20200225         179\n",
      "15  20200226         196\n",
      "16  20200227         143\n",
      "17  20200228         194\n",
      "18  20200229         156\n",
      "19  20200301         145\n",
      "20  20200302         136\n",
      "21  20200303         260\n",
      "22  20200304         319\n",
      "23  20200305         252\n",
      "24  20200306         260\n",
      "25  20200307         206\n",
      "26  20200308         173\n",
      "27  20200309         229\n",
      "28  20200310         221\n",
      "29  20200311         210\n",
      "30  20200312         133\n"
     ]
    }
   ],
   "source": [
    "response_data = response.get('reports', [])[0]\n",
    "print(prase_response(response_data)[0])"
   ]
  }
 ],
 "metadata": {
  "kernelspec": {
   "display_name": "Python 3",
   "language": "python",
   "name": "python3"
  },
  "language_info": {
   "codemirror_mode": {
    "name": "ipython",
    "version": 3
   },
   "file_extension": ".py",
   "mimetype": "text/x-python",
   "name": "python",
   "nbconvert_exporter": "python",
   "pygments_lexer": "ipython3",
   "version": "3.7.4"
  }
 },
 "nbformat": 4,
 "nbformat_minor": 2
}
